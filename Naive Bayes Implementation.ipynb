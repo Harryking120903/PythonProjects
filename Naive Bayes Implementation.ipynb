{
 "cells": [
  {
   "cell_type": "code",
   "execution_count": 2,
   "id": "d0cf05af",
   "metadata": {},
   "outputs": [],
   "source": [
    "import numpy as np"
   ]
  },
  {
   "cell_type": "code",
   "execution_count": 105,
   "id": "7aa38113",
   "metadata": {},
   "outputs": [
    {
     "name": "stdout",
     "output_type": "stream",
     "text": [
      "(5171, 18007)\n",
      "(5171,)\n",
      "0.956681492941404\n"
     ]
    }
   ],
   "source": [
    "class NaiveBayes():\n",
    "    def __init__(self,X,y):\n",
    "        self.num_examples,self.num_features=X.shape\n",
    "        self.num_classes=len(np.unique(y))\n",
    "        self.eps=1e-6\n",
    "    def fit(self,X,y):\n",
    "        self.classes_mean={}\n",
    "        self.classes_vari={}\n",
    "        self.classes_prior={}\n",
    "        for c in range(self.num_classes):            \n",
    "            X_c=X[y==c]\n",
    "            self.classes_mean[str(c)]=np.mean(X_c,axis=0)\n",
    "            self.classes_vari[str(c)]=np.var(X_c,axis=0)\n",
    "            self.classes_prior[str(c)]=X_c.shape[0]/self.num_examples    \n",
    "    def predict(self,X):'''This function returns the final predictions by considering the difference between spam score and non spam score after checking if the difference is greater than the decisin threshold.'''\n",
    "        probs=np.zeros((self.num_examples,self.num_classes))\n",
    "        for c in range(self.num_classes):\n",
    "            prior=self.classes_prior[str(c)]\n",
    "            probs_c=self.density_function(X,self.classes_mean[str(c)],self.classes_vari[str(c)])\n",
    "            probs[:, c]=probs_c+np.log(prior)   \n",
    "        i=0\n",
    "        diff=[]\n",
    "        for c in probs:\n",
    "            diff.append(c[0]-c[1])\n",
    "            i=i+1        \n",
    "        cl=[]        \n",
    "        for c in diff:\n",
    "            if c>0:\n",
    "                cl.append(0)\n",
    "            else:\n",
    "                cl.append(1)\n",
    "        return cl\n",
    "    def density_function(self,x,mean,sigma):'''This function assigns a score to the spamness and non-spamness of the given email using gaussian probability naive bayes function.'''\n",
    "        const=-self.num_features/2*np.log(2*np.pi)-0.5*np.sum(np.log(sigma+self.eps))\n",
    "        probs=0.5*np.sum(np.power(x-mean,2)/(sigma+self.eps),1)\n",
    "        return const-probs\n",
    "if __name__=='__main__':\n",
    "    X=np.load('x.npy')\n",
    "    y=np.load('y.npy')\n",
    "    print(X.shape)\n",
    "    print(y.shape)\n",
    "    NB=NaiveBayes(X,y)\n",
    "    NB.fit(X,y)\n",
    "    y_pred=NB.predict(X)\n",
    "    print(sum(y_pred==y)/X.shape[0])"
   ]
  },
  {
   "cell_type": "code",
   "execution_count": null,
   "id": "5a2bf1e5",
   "metadata": {},
   "outputs": [],
   "source": [
    "'''Storing the values of decision threshold,specificity,sensitivity,accuracy'''"
   ]
  },
  {
   "cell_type": "code",
   "execution_count": 92,
   "id": "63160c22",
   "metadata": {},
   "outputs": [],
   "source": [
    "decision_threshold=np.array([-1e10,-1e9,-1e8,-1e7,-1e6,-1e5,-1e4,-1e3,-1e2,-10,0,10,1e2,1e3,1e4,1e5,1e6,1e7,1e8,1e9,1e10])\n",
    "accuracy=np.array([71.4,71.6,74.2,85.8,95.6,95.6,95.6,95.6,95.6,95.7,95.7,95.7,95.7,95.7,95.7,74.5,74.5,52.31,31.8,28.8,28.6])\n",
    "specificity=np.array([100,100,100,100,100,100,100,100,100,100,100,100,100,100,100,52.9,52.9,37.5,29.53,28.64,28.58])\n",
    "sensitivity=np.array([71.4,71.5,73.5,83.3,94.2,94.2,94.2,94.2,94.2,94.3,94.3,94.3,94.3,94.3,94.3,100,100,100,100,100,100])\n"
   ]
  },
  {
   "cell_type": "code",
   "execution_count": 100,
   "id": "4620e5af",
   "metadata": {},
   "outputs": [
    {
     "data": {
      "image/png": "[encoded data removed]",
      "text/plain": [
       "<Figure size 432x288 with 1 Axes>"
      ]
     },
     "metadata": {
      "needs_background": "light"
     },
     "output_type": "display_data"
    }
   ],
   "source": [
    "import matplotlib.pyplot as plt\n",
    "plt.scatter(decision_threshold,specificity)\n",
    "plt.xlabel(\"Decision Threshold\")\n",
    "plt.ylabel(\"Specificity %\")\n",
    "plt.grid()\n",
    "plt.show()"
   ]
  },
  {
   "cell_type": "code",
   "execution_count": 102,
   "id": "2551d7c8",
   "metadata": {},
   "outputs": [
    {
     "data": {
      "image/png": "[encoded data removed]",
      "text/plain": [
       "<Figure size 432x288 with 1 Axes>"
      ]
     },
     "metadata": {
      "needs_background": "light"
     },
     "output_type": "display_data"
    }
   ],
   "source": [
    "plt.plot(decision_threshold,sensitivity)\n",
    "plt.xlabel(\"Decision Threshold\")\n",
    "plt.ylabel(\"Sensitivity %\")\n",
    "plt.grid()\n",
    "plt.show()"
   ]
  },
  {
   "cell_type": "code",
   "execution_count": 103,
   "id": "a63b7d77",
   "metadata": {},
   "outputs": [
    {
     "data": {
      "image/png": "[encoded data removed]",
      "text/plain": [
       "<Figure size 432x288 with 1 Axes>"
      ]
     },
     "metadata": {
      "needs_background": "light"
     },
     "output_type": "display_data"
    }
   ],
   "source": [
    "plt.scatter(decision_threshold,accuracy)\n",
    "plt.xlabel(\"Decision Threshold\")\n",
    "plt.ylabel(\"Accuracy %\")\n",
    "plt.grid()\n",
    "plt.show()"
   ]
  },
  {
   "cell_type": "code",
   "execution_count": 106,
   "id": "59ab3d4e",
   "metadata": {},
   "outputs": [
    {
     "name": "stdout",
     "output_type": "stream",
     "text": [
      "[[3693    0]\n",
      " [ 224 1254]]\n"
     ]
    }
   ],
   "source": [
    "from sklearn import metrics\n",
    "confusion = metrics.confusion_matrix(y,y_pred)\n",
    "print(confusion)\n",
    "'''This code generates the confusion matrix for a particular decision threshold.\n",
    "The first element in the first row of the matrix denotes the number of non spam emails that were rightly classified as non spam.\n",
    "The second element of the first row of the matrix denotes the number of non spam emails that were wrongly classified as spam.\n",
    "The first element of the second row of the matrix denotes the number of spam emails that were wrongly classfied as non spam.\n",
    "The second element of the second row of the matrix denotes the number of spam emails that were rightly classified as spam.'''"
   ]
  },
  {
   "cell_type": "code",
   "execution_count": null,
   "id": "3e595452",
   "metadata": {},
   "outputs": [],
   "source": []
  }
 ],
 "metadata": {
  "kernelspec": {
   "display_name": "Python 3 (ipykernel)",
   "language": "python",
   "name": "python3"
  },
  "language_info": {
   "codemirror_mode": {
    "name": "ipython",
    "version": 3
   },
   "file_extension": ".py",
   "mimetype": "text/x-python",
   "name": "python",
   "nbconvert_exporter": "python",
   "pygments_lexer": "ipython3",
   "version": "3.9.7"
  }
 },
 "nbformat": 4,
 "nbformat_minor": 5
}
